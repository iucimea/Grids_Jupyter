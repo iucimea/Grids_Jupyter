{
 "cells": [
  {
   "cell_type": "markdown",
   "id": "71444225",
   "metadata": {},
   "source": [
    "# Widgets"
   ]
  },
  {
   "cell_type": "code",
   "execution_count": null,
   "id": "7820e3b1",
   "metadata": {},
   "outputs": [],
   "source": [
    "btn_0 = widgets.Button(description='Save')\n",
    "\n",
    "def save(b):\n",
    "    fig_glob.savefig('spectroscopic map at {} (meV)'.format(bias_glob), format = 'jpg',bbox_inches='tight')\n",
    "btn_0.on_click(save)\n",
    "\n",
    "btn_1 = widgets.Button(description='Save')\n",
    "\n",
    "def save(b):\n",
    "    fig_glob.savefig('Filtered map at {} (meV)'.format(bias_glob), format = 'jpg',bbox_inches='tight')\n",
    "btn_1.on_click(save)\n",
    "\n",
    "btn_2 = widgets.Button(description='Save')\n",
    "\n",
    "def save(b):\n",
    "    fig_glob.savefig('dI_dV map at {} (meV) averaged over r = {} at x = {} y = {}'.format(bias_glob,r_glob, x_glob, y_glob),\n",
    "    format = 'jpg',bbox_inches='tight')\n",
    "btn_2.on_click(save)\n",
    "\n",
    "btn_3 = widgets.Button(description='Save')\n",
    "def save(b):\n",
    "    fig_glob.savefig('dI_dV map averaged at {} (meV)'.format(bias_glob), format = 'jpg', bbox_inches='tight')\n",
    "btn_3.on_click(save)\n",
    "\n",
    "btn_4 = widgets.Button(description='Save')\n",
    "def save(b):\n",
    "    fig_glob.savefig('dI_dV map averaged at {} (meV)'.format(bias_glob), format = 'jpg', bbox_inches='tight')\n",
    "btn_4.on_click(save)\n",
    "\n",
    "btn_6 = widgets.Button(description='Save')\n",
    "def save(b):\n",
    "    fig_glob.savefig('dI_dV average', format = 'jpg', bbox_inches='tight')\n",
    "btn_6.on_click(save)\n",
    "\n",
    "x_widget = FloatSlider(min=0, max=len_x, step = len_x/100, continuous_update=False)\n",
    "y_widget = FloatSlider(min=0, max=abs(len_y), step = len_y/100, continuous_update=False)\n",
    "width_widget = FloatSlider(min = 1, max=abs(len_y)/3, step = len_y/100, continuous_update=False)\n",
    "\n",
    "\n",
    "upper_cut_widget = FloatSlider(min = (bias_end+bias_start)/2, max = max(bias_end,bias_start),\n",
    "                               step = abs((bias_end-bias_start))/spectrum_length, value =  bias_end, continuous_update=False)\n",
    "\n",
    "lower_cut_widget = FloatSlider(min = min(bias_start,bias_end), max = (bias_end+bias_start)/2,\n",
    "                               step = abs((bias_end-bias_start))/spectrum_length, value = bias_start, continuous_update=False)\n",
    "\n",
    "bias_widget = FloatSlider(min= lower_cut_widget.value, max=upper_cut_widget.value, step =(bias_end-bias_start)/spectrum_length,\n",
    "                            continuous_update = False)\n",
    "\n",
    "\n",
    "def update_bias_range(*args):\n",
    "    bias_widget.max = upper_cut_widget.value\n",
    "    bias_widget.min = lower_cut_widget.value\n",
    "    \n",
    "\n",
    "upper_cut_widget.observe(update_bias_range, 'value')\n",
    "lower_cut_widget.observe(update_bias_range, 'value')"
   ]
  }
 ],
 "metadata": {
  "kernelspec": {
   "display_name": "Python 3 (ipykernel)",
   "language": "python",
   "name": "python3"
  },
  "language_info": {
   "codemirror_mode": {
    "name": "ipython",
    "version": 3
   },
   "file_extension": ".py",
   "mimetype": "text/x-python",
   "name": "python",
   "nbconvert_exporter": "python",
   "pygments_lexer": "ipython3",
   "version": "3.12.2"
  }
 },
 "nbformat": 4,
 "nbformat_minor": 5
}
